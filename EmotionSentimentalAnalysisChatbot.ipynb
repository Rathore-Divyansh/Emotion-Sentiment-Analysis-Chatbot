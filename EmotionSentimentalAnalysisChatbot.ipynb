{
 "cells": [
  {
   "cell_type": "code",
   "execution_count": 1,
   "id": "e039e7f5-332e-40a1-98e2-2248a14558db",
   "metadata": {},
   "outputs": [
    {
     "name": "stderr",
     "output_type": "stream",
     "text": [
      "\n",
      "[notice] A new release of pip is available: 24.2 -> 25.0.1\n",
      "[notice] To update, run: python.exe -m pip install --upgrade pip\n"
     ]
    },
    {
     "name": "stdout",
     "output_type": "stream",
     "text": [
      "Requirement already satisfied: textblob in c:\\users\\divya\\appdata\\local\\programs\\python\\python312\\lib\\site-packages (0.18.0.post0)\n",
      "Requirement already satisfied: nltk in c:\\users\\divya\\appdata\\local\\programs\\python\\python312\\lib\\site-packages (3.8.1)\n",
      "Requirement already satisfied: click in c:\\users\\divya\\appdata\\local\\programs\\python\\python312\\lib\\site-packages (from nltk) (8.1.7)\n",
      "Requirement already satisfied: joblib in c:\\users\\divya\\appdata\\local\\programs\\python\\python312\\lib\\site-packages (from nltk) (1.4.2)\n",
      "Requirement already satisfied: regex>=2021.8.3 in c:\\users\\divya\\appdata\\local\\programs\\python\\python312\\lib\\site-packages (from nltk) (2024.7.24)\n",
      "Requirement already satisfied: tqdm in c:\\users\\divya\\appdata\\local\\programs\\python\\python312\\lib\\site-packages (from nltk) (4.66.4)\n",
      "Requirement already satisfied: colorama in c:\\users\\divya\\appdata\\roaming\\python\\python312\\site-packages (from click->nltk) (0.4.6)\n"
     ]
    },
    {
     "name": "stderr",
     "output_type": "stream",
     "text": [
      "[nltk_data] Downloading package punkt to\n",
      "[nltk_data]     C:\\Users\\divya\\AppData\\Roaming\\nltk_data...\n",
      "[nltk_data]   Package punkt is already up-to-date!\n"
     ]
    },
    {
     "name": "stdout",
     "output_type": "stream",
     "text": [
      "🤖 Chatbot Initialized! Type 'exit' to end the conversation.\n",
      "\n"
     ]
    },
    {
     "name": "stdin",
     "output_type": "stream",
     "text": [
      "You:  i am very happy today\n"
     ]
    },
    {
     "name": "stdout",
     "output_type": "stream",
     "text": [
      "Chatbot: 📝 Sentiment: positive (Polarity: 1.00)\n"
     ]
    },
    {
     "name": "stdin",
     "output_type": "stream",
     "text": [
      "You:  exit\n"
     ]
    },
    {
     "name": "stdout",
     "output_type": "stream",
     "text": [
      "Chatbot: 👋 Goodbye! Have a great day!\n"
     ]
    }
   ],
   "source": [
    "# Install dependencies (if not already installed)\n",
    "!pip install textblob nltk\n",
    "\n",
    "import nltk\n",
    "from textblob import TextBlob\n",
    "\n",
    "# Download necessary NLTK data\n",
    "nltk.download('punkt')\n",
    "from nltk.tokenize import word_tokenize\n",
    "\n",
    "class SentimentChatbot:\n",
    "    def __init__(self):\n",
    "        print(\"🤖 Chatbot Initialized! Type 'exit' to end the conversation.\\n\")\n",
    "\n",
    "    def preprocess_text(self, text):\n",
    "        \"\"\"Preprocesses text by tokenizing and converting to lowercase.\"\"\"\n",
    "        tokens = word_tokenize(text.lower())\n",
    "        return ' '.join(tokens)\n",
    "\n",
    "    def analyze_sentiment(self, text):\n",
    "        \"\"\"Analyzes the sentiment of the text using TextBlob.\"\"\"\n",
    "        blob = TextBlob(text)\n",
    "        sentiment_polarity = blob.sentiment.polarity\n",
    "\n",
    "        if sentiment_polarity > 0:\n",
    "            sentiment = 'positive'\n",
    "        elif sentiment_polarity < 0:\n",
    "            sentiment = 'negative'\n",
    "        else:\n",
    "            sentiment = 'neutral'\n",
    "        \n",
    "        return sentiment, sentiment_polarity\n",
    "\n",
    "    def chatbot_response(self, user_input):\n",
    "        \"\"\"Generates a chatbot response based on sentiment analysis.\"\"\"\n",
    "        if not user_input.strip():\n",
    "            return \"⚠️ Please enter some text.\"\n",
    "        \n",
    "        if user_input.lower() == 'exit':\n",
    "            return \"👋 Goodbye! Have a great day!\"\n",
    "\n",
    "        preprocessed_text = self.preprocess_text(user_input)\n",
    "        sentiment, polarity = self.analyze_sentiment(preprocessed_text)\n",
    "\n",
    "        return f\"📝 Sentiment: {sentiment} (Polarity: {polarity:.2f})\"\n",
    "\n",
    "    def start_chat(self):\n",
    "        \"\"\"Starts the chatbot conversation.\"\"\"\n",
    "        while True:\n",
    "            user_input = input(\"You: \")\n",
    "            response = self.chatbot_response(user_input)\n",
    "            print(f\"Chatbot: {response}\")\n",
    "\n",
    "            if user_input.lower() == 'exit':\n",
    "                break\n",
    "\n",
    "# Run the chatbot\n",
    "if __name__ == \"__main__\":\n",
    "    chatbot = SentimentChatbot()\n",
    "    chatbot.start_chat()\n"
   ]
  },
  {
   "cell_type": "code",
   "execution_count": null,
   "id": "2c1d4817-0d3f-4b3b-a97f-d7006f60437f",
   "metadata": {},
   "outputs": [],
   "source": []
  }
 ],
 "metadata": {
  "kernelspec": {
   "display_name": "Python 3 (ipykernel)",
   "language": "python",
   "name": "python3"
  },
  "language_info": {
   "codemirror_mode": {
    "name": "ipython",
    "version": 3
   },
   "file_extension": ".py",
   "mimetype": "text/x-python",
   "name": "python",
   "nbconvert_exporter": "python",
   "pygments_lexer": "ipython3",
   "version": "3.12.4"
  }
 },
 "nbformat": 4,
 "nbformat_minor": 5
}
